{
  "metadata": {
    "language_info": {
      "codemirror_mode": {
        "name": "python",
        "version": 3
      },
      "file_extension": ".py",
      "mimetype": "text/x-python",
      "name": "python",
      "nbconvert_exporter": "python",
      "pygments_lexer": "ipython3",
      "version": "3.8"
    },
    "kernelspec": {
      "name": "python",
      "display_name": "Python (Pyodide)",
      "language": "python"
    }
  },
  "nbformat_minor": 4,
  "nbformat": 4,
  "cells": [
    {
      "cell_type": "markdown",
      "source": "# Overview of Code and Markdown Cells",
      "metadata": {}
    },
    {
      "cell_type": "markdown",
      "source": "A Jupyter notebook usually has many cells. A cell is an input field that allows you to enter multiple lines of text.",
      "metadata": {}
    },
    {
      "cell_type": "markdown",
      "source": "## Top 5 Data Science Programming Languages\n\n* Python\n* Java\n* Scala\n* R\n* Julia",
      "metadata": {}
    },
    {
      "cell_type": "markdown",
      "source": "# Datascience Libraries\n## Python Libraries\n* Pandas\n* Numpy\n* Scikit Learn\n* Scipy\n* Tensor Flow\n* Pytorch\n* Matplotlib\n* Seaborn\n## R Libraries\n* dplyr\n* ggplot\n* caret\n* lattice\n* leaflet",
      "metadata": {}
    },
    {
      "cell_type": "markdown",
      "source": "\n| Tools           | Language                     |\n| ---------------------------------------------|------------------|\n| Jupyter Notebook  | Python |\n| Jupyter Lite      | Python |\n| RStudio  | R |\n\n    ",
      "metadata": {}
    },
    {
      "cell_type": "markdown",
      "source": "## <h3 align=\"center\" style=\"color:blue\"> Arthimatic Operation with jupyter notebook <h3/>",
      "metadata": {}
    },
    {
      "cell_type": "code",
      "source": "2+5\n4*5",
      "metadata": {
        "trusted": true
      },
      "execution_count": 1,
      "outputs": [
        {
          "execution_count": 1,
          "output_type": "execute_result",
          "data": {
            "text/plain": "20"
          },
          "metadata": {}
        }
      ]
    },
    {
      "cell_type": "code",
      "source": "round(30/60,2)",
      "metadata": {
        "trusted": true
      },
      "execution_count": 5,
      "outputs": [
        {
          "execution_count": 5,
          "output_type": "execute_result",
          "data": {
            "text/plain": "0.5"
          },
          "metadata": {}
        }
      ]
    },
    {
      "cell_type": "markdown",
      "source": "## Objectives\n\nAfter completing this lab, we will be able to:\n*   Get an overview of code and markdown cells\n*   Execute an existing code cell\n*   Create and use Markdown cells\n*   Performing arithmetic operation",
      "metadata": {}
    },
    {
      "cell_type": "markdown",
      "source": "## <h3 align=\"center\"> © Author : Krishnendu Bera <h3/>",
      "metadata": {}
    },
    {
      "cell_type": "code",
      "source": "",
      "metadata": {},
      "execution_count": null,
      "outputs": []
    }
  ]
}